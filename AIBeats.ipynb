{
  "nbformat": 4,
  "nbformat_minor": 0,
  "metadata": {
    "colab": {
      "name": "AIBeats.ipynb",
      "provenance": [],
      "collapsed_sections": [],
      "toc_visible": true
    },
    "kernelspec": {
      "name": "python3",
      "display_name": "Python 3"
    },
    "language_info": {
      "name": "python"
    }
  },
  "cells": [
    {
      "cell_type": "markdown",
      "source": [
        "##### Copyright 2019 Google LLC.\n",
        "\n",
        "***Licensed under the Apache License, Version 2.0 (the \"License\");***"
      ],
      "metadata": {
        "id": "XuSGYMJsiCBO"
      }
    },
    {
      "cell_type": "markdown",
      "source": [
        "# **AI BEATS by Metawave**\n",
        "\n",
        "Our plan is to help artists reach artistic growth by providing them with an AI-built tool to recommend and provide useful information for improvement. The tool is comprised of the Autotune module, the Bass modifier, a tool for finding corresponding instruments, and a tool for automatic music creation, including overlaying, crossfading, and mixing the tunes.\n",
        "\n",
        "* [GANSynth ICLR paper](https://arxiv.org/abs/1809.11096)\n",
        "* [Audio Examples](http://goo.gl/magenta/gansynth-examples) \n",
        "\n",
        "\n",
        "<img src=\"https://storage.googleapis.com/magentadata/papers/gansynth/figures/models.jpeg\" alt=\"GANSynth figure\" width=\"600\">"
      ],
      "metadata": {
        "id": "msVCo2bSiO7Y"
      }
    },
    {
      "cell_type": "markdown",
      "source": [
        "## 1: Environment Setup\n",
        "\n",
        "\n",
        "This notebook synthesizes audio from uploaded MIDI files. There are two different flavors:\n",
        "* Interpolate between random instruments\n",
        "* Interpolate between two chosen instruments\n",
        "\n",
        "\n",
        "Have fun! And please feel free to hack this notebook to make your own creative interactions.\n",
        "\n",
        "### Instructions for running:\n",
        "\n",
        "* Make sure to use a GPU runtime, click:  __Runtime >> Change Runtime Type >> GPU__\n",
        "* Then press the **Play** button on the left of each of the cells\n",
        "* Double-click any of the cells to view the code\n"
      ],
      "metadata": {
        "id": "Whta6EBmjHJH"
      }
    },
    {
      "cell_type": "markdown",
      "source": [
        "## 2: Installation\n",
        "\n",
        "**blabla**"
      ],
      "metadata": {
        "id": "cQxQvS5kuiJR"
      }
    },
    {
      "cell_type": "code",
      "source": [
        "#@title Install { vertical-output: true }\n",
        "\n",
        "#@markdown Install all the prerequisities. Shouldn't take more than a minute. Hang in there! :)\n",
        "\n",
        "print(\"Started installing. \\n\\n.\")\n",
        "!pip install note_seq\n",
        "!pip install visual_midi\n",
        "!pip install audioop\n",
        "!pip install pydub\n",
        "!pip install midi2audio\n",
        "\n",
        "\n",
        "import note_seq, numpy as np, os\n",
        "from google.colab import files\n",
        "import audioop\n",
        "import string\n",
        "import glob, shutil\n",
        "import os\n",
        "from sys import builtin_module_names\n",
        "import math\n",
        "import array\n",
        "import argparse\n",
        "import numpy as np\n",
        "import pydub\n",
        "from pydub.playback import play\n",
        "import IPython\n",
        "\n",
        "from audioop import lin2adpcm\n",
        "from concurrent.futures.thread import BrokenThreadPool\n",
        "from hashlib import sha384\n",
        "from tqdm import tqdm\n",
        "import audioop\n",
        "from pydub import AudioSegment\n",
        "\n",
        "print(\"\\n\\nYeaa baby. Let's get it!\")"
      ],
      "metadata": {
        "colab": {
          "base_uri": "https://localhost:8080/"
        },
        "id": "QSeaxSVudCXo",
        "outputId": "e7ba13e9-4b11-46ed-e082-73b04fa573b3",
        "cellView": "form"
      },
      "execution_count": null,
      "outputs": [
        {
          "output_type": "stream",
          "name": "stdout",
          "text": [
            "Started installing. \n",
            "\n",
            ".\n",
            "Requirement already satisfied: note_seq in /usr/local/lib/python3.7/dist-packages (0.0.3)\n",
            "Requirement already satisfied: intervaltree>=2.1.0 in /usr/local/lib/python3.7/dist-packages (from note_seq) (2.1.0)\n",
            "Requirement already satisfied: librosa>=0.6.2 in /usr/local/lib/python3.7/dist-packages (from note_seq) (0.8.1)\n",
            "Requirement already satisfied: pandas>=0.18.1 in /usr/local/lib/python3.7/dist-packages (from note_seq) (1.1.5)\n",
            "Requirement already satisfied: protobuf>=3.6.1 in /usr/local/lib/python3.7/dist-packages (from note_seq) (3.17.3)\n",
            "Requirement already satisfied: scipy>=0.18.1 in /usr/local/lib/python3.7/dist-packages (from note_seq) (1.4.1)\n",
            "Requirement already satisfied: absl-py in /usr/local/lib/python3.7/dist-packages (from note_seq) (0.12.0)\n",
            "Requirement already satisfied: IPython in /usr/local/lib/python3.7/dist-packages (from note_seq) (5.5.0)\n",
            "Requirement already satisfied: attrs in /usr/local/lib/python3.7/dist-packages (from note_seq) (21.4.0)\n",
            "Requirement already satisfied: numpy in /usr/local/lib/python3.7/dist-packages (from note_seq) (1.19.5)\n",
            "Requirement already satisfied: pydub in /usr/local/lib/python3.7/dist-packages (from note_seq) (0.25.1)\n",
            "Requirement already satisfied: bokeh>=0.12.0 in /usr/local/lib/python3.7/dist-packages (from note_seq) (2.3.3)\n",
            "Requirement already satisfied: pretty-midi>=0.2.6 in /usr/local/lib/python3.7/dist-packages (from note_seq) (0.2.9)\n",
            "Requirement already satisfied: python-dateutil>=2.1 in /usr/local/lib/python3.7/dist-packages (from bokeh>=0.12.0->note_seq) (2.8.2)\n",
            "Requirement already satisfied: pillow>=7.1.0 in /usr/local/lib/python3.7/dist-packages (from bokeh>=0.12.0->note_seq) (7.1.2)\n",
            "Requirement already satisfied: Jinja2>=2.9 in /usr/local/lib/python3.7/dist-packages (from bokeh>=0.12.0->note_seq) (2.11.3)\n",
            "Requirement already satisfied: tornado>=5.1 in /usr/local/lib/python3.7/dist-packages (from bokeh>=0.12.0->note_seq) (5.1.1)\n",
            "Requirement already satisfied: packaging>=16.8 in /usr/local/lib/python3.7/dist-packages (from bokeh>=0.12.0->note_seq) (21.3)\n",
            "Requirement already satisfied: typing-extensions>=3.7.4 in /usr/local/lib/python3.7/dist-packages (from bokeh>=0.12.0->note_seq) (3.10.0.2)\n",
            "Requirement already satisfied: PyYAML>=3.10 in /usr/local/lib/python3.7/dist-packages (from bokeh>=0.12.0->note_seq) (3.13)\n",
            "Requirement already satisfied: sortedcontainers in /usr/local/lib/python3.7/dist-packages (from intervaltree>=2.1.0->note_seq) (2.4.0)\n",
            "Requirement already satisfied: MarkupSafe>=0.23 in /usr/local/lib/python3.7/dist-packages (from Jinja2>=2.9->bokeh>=0.12.0->note_seq) (2.0.1)\n",
            "Requirement already satisfied: resampy>=0.2.2 in /usr/local/lib/python3.7/dist-packages (from librosa>=0.6.2->note_seq) (0.2.2)\n",
            "Requirement already satisfied: pooch>=1.0 in /usr/local/lib/python3.7/dist-packages (from librosa>=0.6.2->note_seq) (1.5.2)\n",
            "Requirement already satisfied: scikit-learn!=0.19.0,>=0.14.0 in /usr/local/lib/python3.7/dist-packages (from librosa>=0.6.2->note_seq) (1.0.2)\n",
            "Requirement already satisfied: decorator>=3.0.0 in /usr/local/lib/python3.7/dist-packages (from librosa>=0.6.2->note_seq) (4.4.2)\n",
            "Requirement already satisfied: numba>=0.43.0 in /usr/local/lib/python3.7/dist-packages (from librosa>=0.6.2->note_seq) (0.51.2)\n",
            "Requirement already satisfied: audioread>=2.0.0 in /usr/local/lib/python3.7/dist-packages (from librosa>=0.6.2->note_seq) (2.1.9)\n",
            "Requirement already satisfied: soundfile>=0.10.2 in /usr/local/lib/python3.7/dist-packages (from librosa>=0.6.2->note_seq) (0.10.3.post1)\n",
            "Requirement already satisfied: joblib>=0.14 in /usr/local/lib/python3.7/dist-packages (from librosa>=0.6.2->note_seq) (1.1.0)\n",
            "Requirement already satisfied: llvmlite<0.35,>=0.34.0.dev0 in /usr/local/lib/python3.7/dist-packages (from numba>=0.43.0->librosa>=0.6.2->note_seq) (0.34.0)\n",
            "Requirement already satisfied: setuptools in /usr/local/lib/python3.7/dist-packages (from numba>=0.43.0->librosa>=0.6.2->note_seq) (57.4.0)\n",
            "Requirement already satisfied: pyparsing!=3.0.5,>=2.0.2 in /usr/local/lib/python3.7/dist-packages (from packaging>=16.8->bokeh>=0.12.0->note_seq) (3.0.6)\n",
            "Requirement already satisfied: pytz>=2017.2 in /usr/local/lib/python3.7/dist-packages (from pandas>=0.18.1->note_seq) (2018.9)\n",
            "Requirement already satisfied: requests in /usr/local/lib/python3.7/dist-packages (from pooch>=1.0->librosa>=0.6.2->note_seq) (2.23.0)\n",
            "Requirement already satisfied: appdirs in /usr/local/lib/python3.7/dist-packages (from pooch>=1.0->librosa>=0.6.2->note_seq) (1.4.4)\n",
            "Requirement already satisfied: mido>=1.1.16 in /usr/local/lib/python3.7/dist-packages (from pretty-midi>=0.2.6->note_seq) (1.2.10)\n",
            "Requirement already satisfied: six in /usr/local/lib/python3.7/dist-packages (from pretty-midi>=0.2.6->note_seq) (1.15.0)\n",
            "Requirement already satisfied: threadpoolctl>=2.0.0 in /usr/local/lib/python3.7/dist-packages (from scikit-learn!=0.19.0,>=0.14.0->librosa>=0.6.2->note_seq) (3.0.0)\n",
            "Requirement already satisfied: cffi>=1.0 in /usr/local/lib/python3.7/dist-packages (from soundfile>=0.10.2->librosa>=0.6.2->note_seq) (1.15.0)\n",
            "Requirement already satisfied: pycparser in /usr/local/lib/python3.7/dist-packages (from cffi>=1.0->soundfile>=0.10.2->librosa>=0.6.2->note_seq) (2.21)\n",
            "Requirement already satisfied: prompt-toolkit<2.0.0,>=1.0.4 in /usr/local/lib/python3.7/dist-packages (from IPython->note_seq) (1.0.18)\n",
            "Requirement already satisfied: pygments in /usr/local/lib/python3.7/dist-packages (from IPython->note_seq) (2.6.1)\n",
            "Requirement already satisfied: traitlets>=4.2 in /usr/local/lib/python3.7/dist-packages (from IPython->note_seq) (5.1.1)\n",
            "Requirement already satisfied: simplegeneric>0.8 in /usr/local/lib/python3.7/dist-packages (from IPython->note_seq) (0.8.1)\n",
            "Requirement already satisfied: pickleshare in /usr/local/lib/python3.7/dist-packages (from IPython->note_seq) (0.7.5)\n",
            "Requirement already satisfied: pexpect in /usr/local/lib/python3.7/dist-packages (from IPython->note_seq) (4.8.0)\n",
            "Requirement already satisfied: wcwidth in /usr/local/lib/python3.7/dist-packages (from prompt-toolkit<2.0.0,>=1.0.4->IPython->note_seq) (0.2.5)\n",
            "Requirement already satisfied: ptyprocess>=0.5 in /usr/local/lib/python3.7/dist-packages (from pexpect->IPython->note_seq) (0.7.0)\n",
            "Requirement already satisfied: idna<3,>=2.5 in /usr/local/lib/python3.7/dist-packages (from requests->pooch>=1.0->librosa>=0.6.2->note_seq) (2.10)\n",
            "Requirement already satisfied: certifi>=2017.4.17 in /usr/local/lib/python3.7/dist-packages (from requests->pooch>=1.0->librosa>=0.6.2->note_seq) (2021.10.8)\n",
            "Requirement already satisfied: urllib3!=1.25.0,!=1.25.1,<1.26,>=1.21.1 in /usr/local/lib/python3.7/dist-packages (from requests->pooch>=1.0->librosa>=0.6.2->note_seq) (1.24.3)\n",
            "Requirement already satisfied: chardet<4,>=3.0.2 in /usr/local/lib/python3.7/dist-packages (from requests->pooch>=1.0->librosa>=0.6.2->note_seq) (3.0.4)\n",
            "Requirement already satisfied: visual_midi in /usr/local/lib/python3.7/dist-packages (1.1.0)\n",
            "Requirement already satisfied: bokeh>=2.0.2 in /usr/local/lib/python3.7/dist-packages (from visual_midi) (2.3.3)\n",
            "Requirement already satisfied: pretty-midi>=0.2.8 in /usr/local/lib/python3.7/dist-packages (from visual_midi) (0.2.9)\n",
            "Requirement already satisfied: Jinja2>=2.9 in /usr/local/lib/python3.7/dist-packages (from bokeh>=2.0.2->visual_midi) (2.11.3)\n",
            "Requirement already satisfied: tornado>=5.1 in /usr/local/lib/python3.7/dist-packages (from bokeh>=2.0.2->visual_midi) (5.1.1)\n",
            "Requirement already satisfied: python-dateutil>=2.1 in /usr/local/lib/python3.7/dist-packages (from bokeh>=2.0.2->visual_midi) (2.8.2)\n",
            "Requirement already satisfied: typing-extensions>=3.7.4 in /usr/local/lib/python3.7/dist-packages (from bokeh>=2.0.2->visual_midi) (3.10.0.2)\n",
            "Requirement already satisfied: packaging>=16.8 in /usr/local/lib/python3.7/dist-packages (from bokeh>=2.0.2->visual_midi) (21.3)\n",
            "Requirement already satisfied: numpy>=1.11.3 in /usr/local/lib/python3.7/dist-packages (from bokeh>=2.0.2->visual_midi) (1.19.5)\n",
            "Requirement already satisfied: PyYAML>=3.10 in /usr/local/lib/python3.7/dist-packages (from bokeh>=2.0.2->visual_midi) (3.13)\n",
            "Requirement already satisfied: pillow>=7.1.0 in /usr/local/lib/python3.7/dist-packages (from bokeh>=2.0.2->visual_midi) (7.1.2)\n",
            "Requirement already satisfied: MarkupSafe>=0.23 in /usr/local/lib/python3.7/dist-packages (from Jinja2>=2.9->bokeh>=2.0.2->visual_midi) (2.0.1)\n",
            "Requirement already satisfied: pyparsing!=3.0.5,>=2.0.2 in /usr/local/lib/python3.7/dist-packages (from packaging>=16.8->bokeh>=2.0.2->visual_midi) (3.0.6)\n",
            "Requirement already satisfied: mido>=1.1.16 in /usr/local/lib/python3.7/dist-packages (from pretty-midi>=0.2.8->visual_midi) (1.2.10)\n",
            "Requirement already satisfied: six in /usr/local/lib/python3.7/dist-packages (from pretty-midi>=0.2.8->visual_midi) (1.15.0)\n",
            "\u001b[31mERROR: Could not find a version that satisfies the requirement audioop (from versions: none)\u001b[0m\n",
            "\u001b[31mERROR: No matching distribution found for audioop\u001b[0m\n",
            "Requirement already satisfied: pydub in /usr/local/lib/python3.7/dist-packages (0.25.1)\n",
            "Requirement already satisfied: midi2audio in /usr/local/lib/python3.7/dist-packages (0.1.1)\n",
            "\n",
            "\n",
            "Yeaa baby. Let's get it!\n"
          ]
        }
      ]
    },
    {
      "cell_type": "markdown",
      "source": [
        "## Uploading your favourite music ## "
      ],
      "metadata": {
        "id": "WlgEUSh4vJO_"
      }
    },
    {
      "cell_type": "code",
      "source": [
        "#@title Upload your own music\n",
        "\n",
        "#@markdown Upload an MP3 or MIDI file for audio synthesis, or use the provided default.\n",
        "\n",
        "\n",
        "# Helper functions\n",
        "def load_midi(midi_path, min_pitch=36, max_pitch=84):\n",
        "  \"\"\"Load midi as a notesequence.\"\"\"\n",
        "\n",
        "  ns = note_seq.midi_file_to_sequence_proto(midi_path)\n",
        "  pitches = np.array([n.pitch for n in ns.notes])\n",
        "  velocities = np.array([n.velocity for n in ns.notes])\n",
        "  start_times = np.array([n.start_time for n in ns.notes])\n",
        "  end_times = np.array([n.end_time for n in ns.notes])\n",
        "  valid = np.logical_and(pitches >= min_pitch, pitches <= max_pitch)\n",
        "  notes = {'pitches': pitches[valid],\n",
        "           'velocities': velocities[valid],\n",
        "           'start_times': start_times[valid],\n",
        "           'end_times': end_times[valid]}\n",
        "  return ns, notes\n",
        "\n",
        "from pydub.playback import play\n",
        "import IPython\n",
        "def play_song(song, filename = 'sample.mp3'):\n",
        "  song.export(filename)\n",
        "  IPython.display.Audio(filename)\n",
        "\n",
        "ARRAY_RANGES = {\n",
        "    8: (-0x80, 0x7f),\n",
        "    16: (-0x8000, 0x7fff),\n",
        "    32: (-0x80000000, 0x7fffffff),\n",
        "}\n",
        "\n",
        "def get_min_max_value(bit_depth):\n",
        "    return ARRAY_RANGES[bit_depth]\n",
        "\n",
        "FRAME_WIDTHS = {\n",
        "    8: 1,\n",
        "    16: 2,\n",
        "    32: 4,\n",
        "}\n",
        "\n",
        "\n",
        "def get_frame_width(bit_depth):\n",
        "    return FRAME_WIDTHS[bit_depth]\n",
        "\n",
        "MIDI_SONG_DEFAULT = 'metawave_sample.mp3'\n",
        "\n",
        "def upload():\n",
        "  '''Upload a .wav file.'''\n",
        "  filemap = files.upload()\n",
        "  file_list = []\n",
        "  for key, value in filemap.items():\n",
        "    fname = os.path.join('/content/gansynth/midi', key)\n",
        "    with open(fname, 'wb') as f:\n",
        "      f.write(value)\n",
        "      print('Writing {}'.format(fname))\n",
        "    file_list.append(fname)\n",
        "  return file_list\n",
        "\n",
        "\n",
        "\n",
        "filename = \"Upload you own\" #@param [\"c.mp3\", \"Upload you own\"]\n",
        "\n",
        "from midi2audio import FluidSynth\n",
        "fs = FluidSynth()\n",
        "\n",
        "if filename == 'Upload your own':\n",
        "  try:\n",
        "    f = upload()\n",
        "  except Exception as e:\n",
        "    print('Upload Cancelled')\n",
        "  if f.endswith('mid'):\n",
        "    fs.midi_to_audio(f, 'c.mp3')\n",
        "\n",
        "  audio = AudioSegment.from_mp3(f)\n",
        "\n",
        "play = False #@param {type:\"boolean\"}\n",
        "if play: play_song(audio)"
      ],
      "metadata": {
        "id": "zihwlnOdc7YB",
        "cellView": "form"
      },
      "execution_count": null,
      "outputs": []
    },
    {
      "cell_type": "code",
      "source": [
        "print(type(audio))"
      ],
      "metadata": {
        "colab": {
          "base_uri": "https://localhost:8080/"
        },
        "id": "xSPGlcYs41xM",
        "outputId": "7509832b-980e-4bf8-c95e-0de02f6c73a4"
      },
      "execution_count": null,
      "outputs": [
        {
          "output_type": "stream",
          "name": "stdout",
          "text": [
            "<class 'pydub.audio_segment.AudioSegment'>\n"
          ]
        }
      ]
    },
    {
      "cell_type": "code",
      "source": [
        "## manjka: design, music visualization, beats and instruments integration, help artists = input song, output recommendation\n",
        "## vse pejt čez"
      ],
      "metadata": {
        "id": "vlsO_RKhsB7g"
      },
      "execution_count": null,
      "outputs": []
    },
    {
      "cell_type": "code",
      "source": [
        "## note: your song when uploaded is noted under the argument \"song\", if you wanna go back to a previous version, just reclick this cell. \n",
        "song = audio"
      ],
      "metadata": {
        "id": "CF2qZpXNkWnc"
      },
      "execution_count": null,
      "outputs": []
    },
    {
      "cell_type": "markdown",
      "source": [
        "## Emphasizing the Bass ## "
      ],
      "metadata": {
        "id": "S1gNV160vOZo"
      }
    },
    {
      "cell_type": "code",
      "source": [
        "#@title Emphasize Bass Section 🎵\n",
        "#@markdown Select the number of seconds to take in interpolating between each random instrument. Larger numbers will have slower and smoother interpolations.\n",
        "\n",
        "\n",
        "## offer an explanation, play song after every remake\n",
        "ATTENUATE_DB = 49 #@param {type:\"slider\", min:0, max:50, step:1}\n",
        "ACCENTUATE_DB = 21 #@param {type:\"slider\", min:0, max:50, step:1}\n",
        "\n",
        "\n",
        "\n",
        "def db_to_float(db, using_amplitude=True):\n",
        "    \"\"\"\n",
        "    Converts the input db to a float, which represents the equivalent\n",
        "    ratio in power.\n",
        "    \"\"\"\n",
        "    db = float(db)\n",
        "    if using_amplitude:\n",
        "        return 10 ** (db / 20)\n",
        "    else:  # using power\n",
        "        return 10 ** (db / 10)\n",
        "        \n",
        "def bass_line_freq(track):\n",
        "    sample_track = list(track)\n",
        "\n",
        "    # c-value\n",
        "    est_mean = np.mean(sample_track)\n",
        "\n",
        "    # a-value\n",
        "    est_std = 3 * np.std(sample_track) / (math.sqrt(2))\n",
        "\n",
        "    bass_factor = int(round((est_std - est_mean) * 0.005))\n",
        "\n",
        "    return bass_factor\n",
        "\n",
        "def emphasise_bass(song):\n",
        "    filtered = song.low_pass_filter(bass_line_freq(song.get_array_of_samples()))\n",
        "    combined = (song - ATTENUATE_DB).overlay(filtered + ACCENTUATE_DB)\n",
        "    return combined\n",
        "\n",
        "song = emphasise_bass(song)\n",
        "\n",
        "play = True #@param {type:\"boolean\"}\n",
        "download = False #@param {type:\"boolean\"}\n",
        "\n",
        "import time\n",
        "filename = 'sample.mp3'\n",
        "if play: \n",
        "  song.export(filename, format = 'mp3')\n",
        "  time.sleep(5)\n",
        "  IPython.display.Audio(filename)\n",
        "if download: download_mp3(song, \"song.mp3\")"
      ],
      "metadata": {
        "id": "d3xaf96sfkvM",
        "cellView": "form"
      },
      "execution_count": null,
      "outputs": []
    },
    {
      "cell_type": "code",
      "source": [
        "#@title Download your newly made Audio Track\n",
        "#@markdown Get your song! \n",
        "\n",
        "# Write the file\n",
        "\n",
        "def download_mp3(audio, file):\n",
        "  song.export(file)\n",
        "\n",
        "file = '' #@param {type:\"string\"}\n",
        "song.export(file)"
      ],
      "metadata": {
        "id": "FZ-nfNHHuPE9",
        "cellView": "form"
      },
      "execution_count": null,
      "outputs": []
    },
    {
      "cell_type": "markdown",
      "source": [
        "## Volume Mixer"
      ],
      "metadata": {
        "id": "Wwb-tBRQvXcu"
      }
    },
    {
      "cell_type": "code",
      "source": [
        "#@title Play With the Volume 🎵\n",
        "#@markdown Select the number of seconds to take in interpolating between each random instrument. Larger numbers will have slower and smoother interpolations.\n",
        "\n",
        "\n",
        "def song_length(filename):\n",
        "    song = AudioSegment.from_mp3(filename)\n",
        "    return int(song.duration_seconds)\n",
        "\n",
        "\n",
        "\n",
        "## keep in mind, negative volume\n",
        "volume = 5 #@param {type:\"slider\", min:0, max:50, step:1}\n",
        "lower_interval = 178 #@param {type:\"slider\", min:0, max:300, step:1}\n",
        "upper_interval = 19 #@param {type:\"slider\", min:0, max:300, step:1}\n",
        "\n",
        "## if interval je zuni pesmi vrži warning\n",
        "\n",
        "if lower_interval > upper_interval:\n",
        "  print(\"You have set the upper_interval lower than the lower_interval. \")\n",
        "\n",
        "def volume_up(song, volume = 20, down = 0, up = 4):\n",
        "    down, up = down*1000, up*1000\n",
        "    segment = song[down:up].apply_gain(volume)\n",
        "    seg1, seg3 = song[:down], song[up:]\n",
        "\n",
        "    return seg1.append(segment, crossfade = 1000).append(seg3, crossfade = 1000)\n",
        "\n",
        "song = volume_up(song, volume = volume, down = lower_interval, up = upper_interval)\n",
        "\n",
        "play = True #@param {type:\"boolean\"}\n",
        "download = False #@param {type:\"boolean\"}\n",
        "\n",
        "if play: play_song(song)\n",
        "if download: download_mp3(song, \"song.mp3\")"
      ],
      "metadata": {
        "colab": {
          "base_uri": "https://localhost:8080/"
        },
        "id": "CJMRc-2kgOfL",
        "outputId": "ee9b3eaa-b894-40df-e76f-30ccdef30aa6",
        "cellView": "form"
      },
      "execution_count": null,
      "outputs": [
        {
          "output_type": "stream",
          "name": "stdout",
          "text": [
            "You have set the upper_interval lower than the lower_interval. \n"
          ]
        }
      ]
    },
    {
      "cell_type": "markdown",
      "source": [
        "## Apply Basses ## "
      ],
      "metadata": {
        "id": "hgPNdrrrvZo5"
      }
    },
    {
      "cell_type": "code",
      "source": [
        "#@title Apply Basses 🎵\n",
        "#@markdown Select the number of seconds to take in interpolating between each random instrument. Larger numbers will have slower and smoother interpolations.\n",
        "\n",
        "bass_volume = 5 #@param {type:\"slider\", min:0, max:100, step:1}\n",
        "def apply_basses(song, bass_volume = 10):\n",
        "    files = glob.iglob('**/*.wav')\n",
        "    basses = [AudioSegment.from_wav(b).apply_gain(bass_volume) for b in files]\n",
        "    for clip in basses:\n",
        "        song = song.overlay(clip, position=6000, times = 2)\n",
        "\n",
        "song = apply_basses(song, bass_volume = bass_volume)\n",
        "\n",
        "play = True #@param {type:\"boolean\"}\n",
        "download = False #@param {type:\"boolean\"}\n",
        "\n",
        "if play: play_song(song)\n",
        "if download: download_mp3(song, \"song.mp3\")"
      ],
      "metadata": {
        "id": "Ul-XqfvqgP-n",
        "cellView": "form"
      },
      "execution_count": null,
      "outputs": []
    },
    {
      "cell_type": "code",
      "source": [
        "#@title Download your newly made 8D Audio Track\n",
        "#@markdown Get your song! \n",
        "\n",
        "# Write the file\n",
        "\n",
        "def download_mp3(audio, file):\n",
        "  song.export(file)\n",
        "\n",
        "file = 'track.mp3' #@param {type:\"string\"}\n",
        "song.export(file)"
      ],
      "metadata": {
        "id": "AC-vm3iDuQi4",
        "cellView": "form"
      },
      "execution_count": null,
      "outputs": []
    },
    {
      "cell_type": "markdown",
      "source": [
        "## Low pass filter ## "
      ],
      "metadata": {
        "id": "PEHlbySdvuBk"
      }
    },
    {
      "cell_type": "code",
      "source": [
        "#@title Apply Low Pass Filter 🎵\n",
        "#@markdown Select the number of seconds to take in interpolating between each random instrument. Larger numbers will have slower and smoother interpolations.\n",
        "\n",
        "cutoff = 5 #@param {type:\"slider\", min:0, max:250, step:1}\n",
        "play = True #@param [\"False\", \"True\"] {type:\"raw\"}\n",
        "download = False #@param [\"False\", \"True\"] {type:\"raw\"}\n",
        "\n",
        "\n",
        "frame_rate = 60\n",
        "\n",
        "def low_pass_filter(seg, cutoff):\n",
        "    \"\"\"\n",
        "        cutoff - Frequency (in Hz) where higher frequency signal will begin to\n",
        "            be reduced by 6dB per octave (doubling in frequency) above this point\n",
        "    \"\"\"\n",
        "    RC = 1.0 / (cutoff * 2 * math.pi)\n",
        "    dt = 1.0 / frame_rate\n",
        "\n",
        "    alpha = dt / (RC + dt)\n",
        "    \n",
        "    original = seg.get_array_of_samples()\n",
        "    filteredArray = array.array(seg.array_type, original)\n",
        "    \n",
        "    frame_count = int(seg.frame_count())\n",
        "\n",
        "    last_val = [0] * seg.channels\n",
        "    for i in range(seg.channels):\n",
        "        last_val[i] = filteredArray[i] = original[i]\n",
        "\n",
        "    for i in range(1, frame_count):\n",
        "        for j in range(seg.channels):\n",
        "            offset = (i * seg.channels) + j\n",
        "            last_val[j] = last_val[j] + (alpha * (original[offset] - last_val[j]))\n",
        "            filteredArray[offset] = int(last_val[j])\n",
        "\n",
        "    return seg._spawn(data=filteredArray)\n",
        "\n",
        "song = low_pass_filter(song, cutoff)\n",
        "\n",
        "play = True #@param {type:\"boolean\"}\n",
        "download = False #@param {type:\"boolean\"}\n",
        "\n",
        "if play: play_song(song)\n",
        "if download: download_mp3(song, \"song.mp3\")"
      ],
      "metadata": {
        "id": "jYPJDTtdgS3r",
        "cellView": "form"
      },
      "execution_count": null,
      "outputs": []
    },
    {
      "cell_type": "markdown",
      "source": [
        "## High Pass Filter"
      ],
      "metadata": {
        "id": "9xCdxGg5v6WV"
      }
    },
    {
      "cell_type": "code",
      "source": [
        "#@title Apply High Pass Filter 🎵\n",
        "#@markdown Select the number of seconds to take in interpolating between each random instrument. Larger numbers will have slower and smoother interpolations.\n",
        "\n",
        "\n",
        "cutoff = 5 #@param {type:\"slider\", min:0, max:250, step:1}\n",
        "\n",
        "def high_pass_filter(seg, cutoff):\n",
        "    \"\"\"\n",
        "        cutoff - Frequency (in Hz) where lower frequency signal will begin to\n",
        "            be reduced by 6dB per octave (doubling in frequency) below this point\n",
        "    \"\"\"\n",
        "    RC = 1.0 / (cutoff * 2 * math.pi)\n",
        "    dt = 1.0 / frame_rate\n",
        "\n",
        "    alpha = RC / (RC + dt)\n",
        "\n",
        "    minval, maxval = get_min_max_value(seg.sample_width * 8)\n",
        "    \n",
        "    original = seg.get_array_of_samples()\n",
        "    filteredArray = array.array(seg.array_type, original)\n",
        "    \n",
        "    frame_count = int(seg.frame_count())\n",
        "\n",
        "    last_val = [0] * seg.channels\n",
        "    for i in range(seg.channels):\n",
        "        last_val[i] = filteredArray[i] = original[i]\n",
        "\n",
        "    for i in range(1, frame_count):\n",
        "        for j in range(seg.channels):\n",
        "            offset = (i * seg.channels) + j\n",
        "            offset_minus_1 = ((i-1) * seg.channels) + j\n",
        "\n",
        "            last_val[j] = alpha * (last_val[j] + original[offset] - original[offset_minus_1])\n",
        "            filteredArray[offset] = int(min(max(last_val[j], minval), maxval))\n",
        "\n",
        "    return seg._spawn(data=filteredArray)\n",
        "\n",
        "song = high_pass_filter(song, cutoff)\n",
        "\n",
        "play = True #@param {type:\"boolean\"}\n",
        "download = False #@param {type:\"boolean\"}\n",
        "\n",
        "if play: play_song(song)\n",
        "if download: download_mp3(song, \"song.mp3\")"
      ],
      "metadata": {
        "id": "ORJ075LJgUZn",
        "cellView": "form"
      },
      "execution_count": null,
      "outputs": []
    },
    {
      "cell_type": "markdown",
      "source": [
        "## Apply Gain Stereo ## "
      ],
      "metadata": {
        "id": "sYQtwnpVv8Ry"
      }
    },
    {
      "cell_type": "code",
      "source": [
        "#@title Apply Gain Stereo 🎵\n",
        "#@markdown Select the number of seconds to take in interpolating between each random instrument. Larger numbers will have slower and smoother interpolations.\n",
        "\n",
        "\n",
        "left_gain = 5 #@param {type:\"slider\", min:0, max:50, step:1}\n",
        "right_gain = 7 #@param {type:\"slider\", min:0, max:50, step:1}\n",
        "\n",
        "\n",
        "def apply_gain_stereo(seg, left_gain=0.0, right_gain=0.0):\n",
        "    \"\"\"\n",
        "    left_gain - amount of gain to apply to the left channel (in dB)\n",
        "    right_gain - amount of gain to apply to the right channel (in dB)\n",
        "    \n",
        "    note: mono audio segments will be converted to stereo\n",
        "    \"\"\"\n",
        "    if seg.channels == 1:\n",
        "        left = right = seg\n",
        "    elif seg.channels == 2:\n",
        "        left, right = seg.split_to_mono()\n",
        "    \n",
        "    l_mult_factor = db_to_float(left_gain)\n",
        "    r_mult_factor = db_to_float(right_gain)\n",
        "    \n",
        "    left_data = audioop.mul(left._data, left.sample_width, l_mult_factor)\n",
        "    left_data = audioop.tostereo(left_data, left.sample_width, 1, 0)\n",
        "    \n",
        "    right_data = audioop.mul(right._data, right.sample_width, r_mult_factor)\n",
        "    right_data = audioop.tostereo(right_data, right.sample_width, 0, 1)\n",
        "    \n",
        "    output = audioop.add(left_data, right_data, seg.sample_width)\n",
        "    \n",
        "    return seg._spawn(data=output,\n",
        "                overrides={'channels': 2,\n",
        "                           'frame_width': 2 * seg.sample_width})\n",
        "    \n",
        "song = apply_gain_stereo(song, left_gain = left_gain, right_gain = right_gain)\n",
        "\n",
        "play = True #@param {type:\"boolean\"}\n",
        "download = False #@param {type:\"boolean\"}\n",
        "\n",
        "if play: play_song(song)\n",
        "if download: download_mp3(song, \"song.mp3\")"
      ],
      "metadata": {
        "colab": {
          "base_uri": "https://localhost:8080/",
          "height": 321
        },
        "id": "w9nfZIM_gbjr",
        "outputId": "7e076aae-9bba-4960-e303-5c8b4f02592d",
        "cellView": "form"
      },
      "execution_count": null,
      "outputs": [
        {
          "output_type": "error",
          "ename": "AttributeError",
          "evalue": "ignored",
          "traceback": [
            "\u001b[0;31m---------------------------------------------------------------------------\u001b[0m",
            "\u001b[0;31mAttributeError\u001b[0m                            Traceback (most recent call last)",
            "\u001b[0;32m<ipython-input-61-89b3a404ed54>\u001b[0m in \u001b[0;36m<module>\u001b[0;34m()\u001b[0m\n\u001b[1;32m     34\u001b[0m                            'frame_width': 2 * seg.sample_width})\n\u001b[1;32m     35\u001b[0m \u001b[0;34m\u001b[0m\u001b[0m\n\u001b[0;32m---> 36\u001b[0;31m \u001b[0msong\u001b[0m \u001b[0;34m=\u001b[0m \u001b[0mapply_gain_stereo\u001b[0m\u001b[0;34m(\u001b[0m\u001b[0msong\u001b[0m\u001b[0;34m,\u001b[0m \u001b[0mleft_gain\u001b[0m \u001b[0;34m=\u001b[0m \u001b[0mleft_gain\u001b[0m\u001b[0;34m,\u001b[0m \u001b[0mright_gain\u001b[0m \u001b[0;34m=\u001b[0m \u001b[0mright_gain\u001b[0m\u001b[0;34m)\u001b[0m\u001b[0;34m\u001b[0m\u001b[0;34m\u001b[0m\u001b[0m\n\u001b[0m",
            "\u001b[0;32m<ipython-input-61-89b3a404ed54>\u001b[0m in \u001b[0;36mapply_gain_stereo\u001b[0;34m(seg, left_gain, right_gain)\u001b[0m\n\u001b[1;32m     14\u001b[0m     \u001b[0mnote\u001b[0m\u001b[0;34m:\u001b[0m \u001b[0mmono\u001b[0m \u001b[0maudio\u001b[0m \u001b[0msegments\u001b[0m \u001b[0mwill\u001b[0m \u001b[0mbe\u001b[0m \u001b[0mconverted\u001b[0m \u001b[0mto\u001b[0m \u001b[0mstereo\u001b[0m\u001b[0;34m\u001b[0m\u001b[0;34m\u001b[0m\u001b[0m\n\u001b[1;32m     15\u001b[0m     \"\"\"\n\u001b[0;32m---> 16\u001b[0;31m     \u001b[0;32mif\u001b[0m \u001b[0mseg\u001b[0m\u001b[0;34m.\u001b[0m\u001b[0mchannels\u001b[0m \u001b[0;34m==\u001b[0m \u001b[0;36m1\u001b[0m\u001b[0;34m:\u001b[0m\u001b[0;34m\u001b[0m\u001b[0;34m\u001b[0m\u001b[0m\n\u001b[0m\u001b[1;32m     17\u001b[0m         \u001b[0mleft\u001b[0m \u001b[0;34m=\u001b[0m \u001b[0mright\u001b[0m \u001b[0;34m=\u001b[0m \u001b[0mseg\u001b[0m\u001b[0;34m\u001b[0m\u001b[0;34m\u001b[0m\u001b[0m\n\u001b[1;32m     18\u001b[0m     \u001b[0;32melif\u001b[0m \u001b[0mseg\u001b[0m\u001b[0;34m.\u001b[0m\u001b[0mchannels\u001b[0m \u001b[0;34m==\u001b[0m \u001b[0;36m2\u001b[0m\u001b[0;34m:\u001b[0m\u001b[0;34m\u001b[0m\u001b[0;34m\u001b[0m\u001b[0m\n",
            "\u001b[0;31mAttributeError\u001b[0m: 'NoneType' object has no attribute 'channels'"
          ]
        }
      ]
    },
    {
      "cell_type": "code",
      "source": [
        "#@title Download your newly made Audio Track\n",
        "#@markdown Get your song! \n",
        "\n",
        "# Write the file\n",
        "\n",
        "def download_mp3(audio, file):\n",
        "  song.export(file)\n",
        "\n",
        "file = 'track.mp3' #@param {type:\"string\"}\n",
        "song.export(file)"
      ],
      "metadata": {
        "id": "f13OgcF_uKrl",
        "cellView": "form"
      },
      "execution_count": null,
      "outputs": []
    },
    {
      "cell_type": "markdown",
      "source": [
        "## Speed Up ## "
      ],
      "metadata": {
        "id": "dzWj1JBdwB1i"
      }
    },
    {
      "cell_type": "code",
      "source": [
        "#@title Speed Up Or Slow Down 🎵\n",
        "#@markdown Select the number of seconds to take in interpolating between each random instrument. Larger numbers will have slower and smoother interpolations.\n",
        "\n",
        "\n",
        "speed = -0.4 #@param {type:\"slider\", min:-5, max:5, step:0.1}\n",
        "\n",
        "\n",
        "def speedup(seg, playback_speed=1.5, chunk_size=150, crossfade=25):\n",
        "    atk = 1.0 / playback_speed\n",
        "\n",
        "    if playback_speed < 2.0:\n",
        "        # throwing out more than half the audio - keep 50ms chunks\n",
        "        ms_to_remove_per_chunk = int(chunk_size * (1 - atk) / atk)\n",
        "    else:\n",
        "        # throwing out less than half the audio - throw out 50ms chunks\n",
        "        ms_to_remove_per_chunk = int(chunk_size)\n",
        "        chunk_size = int(atk * chunk_size / (1 - atk))\n",
        "\n",
        "    # the crossfade cannot be longer than the amount of audio we're removing\n",
        "    crossfade = min(crossfade, ms_to_remove_per_chunk - 1)\n",
        "\n",
        "    # DEBUG\n",
        "    #print(\"chunk: {0}, rm: {1}\".format(chunk_size, ms_to_remove_per_chunk))\n",
        "\n",
        "    chunks = make_chunks(seg, chunk_size + ms_to_remove_per_chunk)\n",
        "    if len(chunks) < 2:\n",
        "        raise Exception(\"Could not speed up AudioSegment, it was too short {2:0.2f}s for the current settings:\\n{0}ms chunks at {1:0.1f}x speedup\".format(\n",
        "            chunk_size, playback_speed, seg.duration_seconds))\n",
        "\n",
        "    # we'll actually truncate a bit less than we calculated to make up for the\n",
        "    # crossfade between chunks\n",
        "    ms_to_remove_per_chunk -= crossfade\n",
        "\n",
        "    # we don't want to truncate the last chunk since it is not guaranteed to be\n",
        "    # the full chunk length\n",
        "    last_chunk = chunks[-1]\n",
        "    chunks = [chunk[:-ms_to_remove_per_chunk] for chunk in chunks[:-1]]\n",
        "\n",
        "    out = chunks[0]\n",
        "    for chunk in chunks[1:]:\n",
        "        out = out.append(chunk, crossfade=crossfade)\n",
        "\n",
        "    out += last_chunk\n",
        "    return out\n",
        "\n",
        "song = speedup(song, speed)\n",
        "\n",
        "play = True #@param {type:\"boolean\"}\n",
        "download = False #@param {type:\"boolean\"}\n",
        "\n",
        "if play: play_song(song)\n",
        "if download: download_mp3(song, \"song.mp3\")"
      ],
      "metadata": {
        "colab": {
          "base_uri": "https://localhost:8080/",
          "height": 345
        },
        "id": "Kv2dznscgemE",
        "outputId": "582f097f-dbdb-444b-a937-a663d7b89691",
        "cellView": "form"
      },
      "execution_count": null,
      "outputs": [
        {
          "output_type": "error",
          "ename": "TypeError",
          "evalue": "ignored",
          "traceback": [
            "\u001b[0;31m---------------------------------------------------------------------------\u001b[0m",
            "\u001b[0;31mTypeError\u001b[0m                                 Traceback (most recent call last)",
            "\u001b[0;32m<ipython-input-65-4b6e9891d22f>\u001b[0m in \u001b[0;36m<module>\u001b[0;34m()\u001b[0m\n\u001b[1;32m     44\u001b[0m     \u001b[0;32mreturn\u001b[0m \u001b[0mout\u001b[0m\u001b[0;34m\u001b[0m\u001b[0;34m\u001b[0m\u001b[0m\n\u001b[1;32m     45\u001b[0m \u001b[0;34m\u001b[0m\u001b[0m\n\u001b[0;32m---> 46\u001b[0;31m \u001b[0msong\u001b[0m \u001b[0;34m=\u001b[0m \u001b[0mspeedup\u001b[0m\u001b[0;34m(\u001b[0m\u001b[0msong\u001b[0m\u001b[0;34m,\u001b[0m \u001b[0mspeed\u001b[0m\u001b[0;34m)\u001b[0m\u001b[0;34m\u001b[0m\u001b[0;34m\u001b[0m\u001b[0m\n\u001b[0m",
            "\u001b[0;32m<ipython-input-65-4b6e9891d22f>\u001b[0m in \u001b[0;36mspeedup\u001b[0;34m(seg, playback_speed, chunk_size, crossfade)\u001b[0m\n\u001b[1;32m     23\u001b[0m     \u001b[0;31m#print(\"chunk: {0}, rm: {1}\".format(chunk_size, ms_to_remove_per_chunk))\u001b[0m\u001b[0;34m\u001b[0m\u001b[0;34m\u001b[0m\u001b[0;34m\u001b[0m\u001b[0m\n\u001b[1;32m     24\u001b[0m \u001b[0;34m\u001b[0m\u001b[0m\n\u001b[0;32m---> 25\u001b[0;31m     \u001b[0mchunks\u001b[0m \u001b[0;34m=\u001b[0m \u001b[0mmake_chunks\u001b[0m\u001b[0;34m(\u001b[0m\u001b[0mseg\u001b[0m\u001b[0;34m,\u001b[0m \u001b[0mchunk_size\u001b[0m \u001b[0;34m+\u001b[0m \u001b[0mms_to_remove_per_chunk\u001b[0m\u001b[0;34m)\u001b[0m\u001b[0;34m\u001b[0m\u001b[0;34m\u001b[0m\u001b[0m\n\u001b[0m\u001b[1;32m     26\u001b[0m     \u001b[0;32mif\u001b[0m \u001b[0mlen\u001b[0m\u001b[0;34m(\u001b[0m\u001b[0mchunks\u001b[0m\u001b[0;34m)\u001b[0m \u001b[0;34m<\u001b[0m \u001b[0;36m2\u001b[0m\u001b[0;34m:\u001b[0m\u001b[0;34m\u001b[0m\u001b[0;34m\u001b[0m\u001b[0m\n\u001b[1;32m     27\u001b[0m         raise Exception(\"Could not speed up AudioSegment, it was too short {2:0.2f}s for the current settings:\\n{0}ms chunks at {1:0.1f}x speedup\".format(\n",
            "\u001b[0;32m<ipython-input-64-0eb70af77e19>\u001b[0m in \u001b[0;36mmake_chunks\u001b[0;34m(audio_segment, chunk_length)\u001b[0m\n\u001b[1;32m      8\u001b[0m \u001b[0;34m\u001b[0m\u001b[0m\n\u001b[1;32m      9\u001b[0m \u001b[0;32mdef\u001b[0m \u001b[0mmake_chunks\u001b[0m\u001b[0;34m(\u001b[0m\u001b[0maudio_segment\u001b[0m\u001b[0;34m,\u001b[0m \u001b[0mchunk_length\u001b[0m\u001b[0;34m)\u001b[0m\u001b[0;34m:\u001b[0m\u001b[0;34m\u001b[0m\u001b[0;34m\u001b[0m\u001b[0m\n\u001b[0;32m---> 10\u001b[0;31m     \u001b[0mnumber_of_chunks\u001b[0m \u001b[0;34m=\u001b[0m \u001b[0mmath\u001b[0m\u001b[0;34m.\u001b[0m\u001b[0mceil\u001b[0m\u001b[0;34m(\u001b[0m\u001b[0mlen\u001b[0m\u001b[0;34m(\u001b[0m\u001b[0maudio_segment\u001b[0m\u001b[0;34m)\u001b[0m \u001b[0;34m/\u001b[0m \u001b[0mfloat\u001b[0m\u001b[0;34m(\u001b[0m\u001b[0mchunk_length\u001b[0m\u001b[0;34m)\u001b[0m\u001b[0;34m)\u001b[0m\u001b[0;34m\u001b[0m\u001b[0;34m\u001b[0m\u001b[0m\n\u001b[0m\u001b[1;32m     11\u001b[0m     return [audio_segment[i * chunk_length:(i + 1) * chunk_length]\n\u001b[1;32m     12\u001b[0m             for i in range(int(number_of_chunks))]\n",
            "\u001b[0;31mTypeError\u001b[0m: object of type 'NoneType' has no len()"
          ]
        }
      ]
    },
    {
      "cell_type": "markdown",
      "source": [
        "## Cut, cut, cut ##"
      ],
      "metadata": {
        "id": "2TC5_3fuwE8m"
      }
    },
    {
      "cell_type": "code",
      "source": [
        "#@title Cut the Song 🎵\n",
        "#@markdown Select the number of seconds to take in interpolating between each random instrument. Larger numbers will have slower and smoother interpolations.\n",
        "\n",
        "\n",
        "on_the_left_side = 0 #@param {type:\"slider\", min:0, max:20, step:0.1}\n",
        "on_the_right_side = 0 #@param {type:\"slider\", min:0, max:20, step:0.1}\n",
        "\n",
        "\n",
        "def make_chunks(audio_segment, chunk_length):\n",
        "    number_of_chunks = math.ceil(len(audio_segment) / float(chunk_length))\n",
        "    return [audio_segment[i * chunk_length:(i + 1) * chunk_length]\n",
        "            for i in range(int(number_of_chunks))]\n",
        "\n",
        "def cut_song(song, on_the_left_side, on_the_right_side):\n",
        "  song = song[on_the_left_side:]\n",
        "  song = song[:on_the_right_side]\n",
        "  return song\n",
        "\n",
        "song = cut_song(song, on_the_left_side, on_the_right_side)\n",
        "\n",
        "play = True #@param {type:\"boolean\"}\n",
        "download = False #@param {type:\"boolean\"}\n",
        "\n",
        "if play: play_song(song)\n",
        "if download: download_mp3(song, \"song.mp3\")\n"
      ],
      "metadata": {
        "id": "qFUaWmW1ggcG",
        "cellView": "form"
      },
      "execution_count": null,
      "outputs": []
    },
    {
      "cell_type": "code",
      "source": [
        "#@title Download your newly made 8D Audio Track\n",
        "#@markdown Get your song! \n",
        "\n",
        "# Write the file\n",
        "\n",
        "def download_mp3(audio, file):\n",
        "  song.export(file)\n",
        "\n",
        "file = 'track.mp3' #@param {type:\"string\"}\n",
        "song.export(file)"
      ],
      "metadata": {
        "id": "bISNWh4euIVj",
        "cellView": "form"
      },
      "execution_count": null,
      "outputs": []
    },
    {
      "cell_type": "markdown",
      "source": [
        "##  **8D AUDIO !!!**"
      ],
      "metadata": {
        "id": "KoyrCkBohTcu"
      }
    },
    {
      "cell_type": "code",
      "source": [
        "#@title Transform any song into 8D Audio 🎵\n",
        "\n",
        "\n",
        "def transformto8D(song):\n",
        "    adjust_jump, segment_length = 8, 200\n",
        "\n",
        "    trap_song = song[0]\n",
        "    pan_limit=[]\n",
        "    limit_left  = -100\n",
        "\n",
        "    for i in range(100):\n",
        "        if int(limit_left) >= 100:\n",
        "            break\n",
        "        pan_limit.append(limit_left)\n",
        "        limit_left+=adjust_jump\n",
        "\n",
        "    pan_limit.append(100)\n",
        "\n",
        "    for i in range(0,len(pan_limit)): pan_limit[i] = pan_limit[i] /100\n",
        "    c=0\n",
        "    flag = True\n",
        "\n",
        "    for i in range(0,len(song)-segment_length, segment_length):\n",
        "\n",
        "        peice = song[i:i+segment_length]\n",
        "\n",
        "        if c==0 and not flag:\n",
        "            flag =True\n",
        "            c=c+2\n",
        "\n",
        "        if c==len(pan_limit):\n",
        "            c = c-2\n",
        "            flag =False\n",
        "\n",
        "        if flag:\n",
        "            panned = peice.pan(pan_limit[c])\n",
        "            c+=1\n",
        "\n",
        "        else:\n",
        "            panned = peice.pan(pan_limit[c])\n",
        "            c-=1\n",
        "        trap_song =trap_song+panned\n",
        "        \n",
        "    return trap_song\n",
        "\n",
        "song = transformto8D(song)\n",
        "\n",
        "play = True #@param {type:\"boolean\"}\n",
        "download = False #@param {type:\"boolean\"}\n",
        "if play: play_song(song)\n",
        "if download: download_mp3(song, \"song.mp3\")"
      ],
      "metadata": {
        "id": "tqg27wfLgqMo",
        "cellView": "form"
      },
      "execution_count": null,
      "outputs": []
    },
    {
      "cell_type": "code",
      "source": [
        "#@title Download your newly made 8D Audio Track\n",
        "#@markdown Get your song! \n",
        "\n",
        "# Write the file\n",
        "\n",
        "def download_mp3(audio, file):\n",
        "  song.export(file)\n",
        "\n",
        "file = 'track.mp3' #@param {type:\"string\"}\n",
        "song.export(file)"
      ],
      "metadata": {
        "colab": {
          "base_uri": "https://localhost:8080/",
          "height": 200
        },
        "id": "sGludCPWhOMi",
        "outputId": "19276703-b3e8-4dc0-e87d-ea007ddb4c6f",
        "cellView": "form"
      },
      "execution_count": null,
      "outputs": [
        {
          "output_type": "error",
          "ename": "AttributeError",
          "evalue": "ignored",
          "traceback": [
            "\u001b[0;31m---------------------------------------------------------------------------\u001b[0m",
            "\u001b[0;31mAttributeError\u001b[0m                            Traceback (most recent call last)",
            "\u001b[0;32m<ipython-input-66-49df2a7f33da>\u001b[0m in \u001b[0;36m<module>\u001b[0;34m()\u001b[0m\n\u001b[1;32m      5\u001b[0m \u001b[0;34m\u001b[0m\u001b[0m\n\u001b[1;32m      6\u001b[0m \u001b[0mfile\u001b[0m \u001b[0;34m=\u001b[0m \u001b[0;34m'track.mp3'\u001b[0m \u001b[0;31m#@param {type:\"string\"}\u001b[0m\u001b[0;34m\u001b[0m\u001b[0;34m\u001b[0m\u001b[0m\n\u001b[0;32m----> 7\u001b[0;31m \u001b[0msong\u001b[0m\u001b[0;34m.\u001b[0m\u001b[0mexport\u001b[0m\u001b[0;34m(\u001b[0m\u001b[0mfile\u001b[0m\u001b[0;34m)\u001b[0m\u001b[0;34m\u001b[0m\u001b[0;34m\u001b[0m\u001b[0m\n\u001b[0m",
            "\u001b[0;31mAttributeError\u001b[0m: 'NoneType' object has no attribute 'export'"
          ]
        }
      ]
    },
    {
      "cell_type": "code",
      "source": [
        ""
      ],
      "metadata": {
        "id": "BYaJ9P-O45yw"
      },
      "execution_count": null,
      "outputs": []
    }
  ]
}